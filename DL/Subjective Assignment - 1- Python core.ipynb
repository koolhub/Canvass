{
 "cells": [
  {
   "cell_type": "markdown",
   "metadata": {},
   "source": [
    "Q1. Write a Python program to get the string from the given string where\n",
    "all the occurrence of its first char has been changed to '$,' except first\n",
    "char itself?\n",
    "\n",
    "    Sample String: 'prospect'\n",
    "    Expected Result : 'pros$ect'\n"
   ]
  },
  {
   "cell_type": "code",
   "execution_count": 2,
   "metadata": {},
   "outputs": [
    {
     "name": "stdout",
     "output_type": "stream",
     "text": [
      "Printing the first character in a given String  --> p \n",
      "pros$ect\n"
     ]
    }
   ],
   "source": [
    "giverstr = 'prospect'\n",
    "charto_find = giverstr[0]\n",
    "giverstr = giverstr[1:]\n",
    "print(\"Printing the first character in a given String  --> {} \".format(charto_find))\n",
    "print(charto_find+ giverstr.replace(charto_find, \"$\"))\n"
   ]
  },
  {
   "cell_type": "markdown",
   "metadata": {},
   "source": [
    "Q2. Write a Python program to get the single string from the two given\n",
    "strings, and separated by the space and swap the first two characters of\n",
    "each string?\n",
    "\n",
    "    Sample String : 'abc', 'xyz'.\n",
    "    Expected Result: 'xyc abz'"
   ]
  },
  {
   "cell_type": "code",
   "execution_count": 3,
   "metadata": {},
   "outputs": [
    {
     "name": "stdout",
     "output_type": "stream",
     "text": [
      "xyc abz\n"
     ]
    }
   ],
   "source": [
    "def string_swap(a, b):\n",
    "    new_a = b[:2] + a[2:]\n",
    "    new_b = a[:2] + b[2:]\n",
    "    return new_a + ' ' + new_b\n",
    "\n",
    "print(string_swap('abc', 'xyz'))"
   ]
  },
  {
   "cell_type": "markdown",
   "metadata": {},
   "source": [
    "Q3. Write the Python program to add 'ing' at the end of the given string\n",
    "(length of the string should be at least 3). If given string already ends\n",
    "with 'ing,' then add 'ly' instead. If string length of the given string is less\n",
    "than 3, leave it unchanged?\n",
    "\n",
    "\n",
    "    Sample string: ' abc '\n",
    "    Expected result: ' abcing '\n",
    "    Sample string: ' string '\n",
    "    Expected result: ' stringly '\n"
   ]
  },
  {
   "cell_type": "code",
   "execution_count": 4,
   "metadata": {},
   "outputs": [],
   "source": [
    "def add_ing(a):\n",
    "    if len(a) < 3:\n",
    "        return a\n",
    "    if a[-3:] == 'ing':\n",
    "        return a + 'ly'\n",
    "    return a + 'ing'\n"
   ]
  },
  {
   "cell_type": "code",
   "execution_count": 5,
   "metadata": {},
   "outputs": [
    {
     "data": {
      "text/plain": [
       "'abcing'"
      ]
     },
     "execution_count": 5,
     "metadata": {},
     "output_type": "execute_result"
    }
   ],
   "source": [
    "add_ing('abc')"
   ]
  },
  {
   "cell_type": "code",
   "execution_count": 6,
   "metadata": {},
   "outputs": [
    {
     "data": {
      "text/plain": [
       "'stringly'"
      ]
     },
     "execution_count": 6,
     "metadata": {},
     "output_type": "execute_result"
    }
   ],
   "source": [
    "add_ing('string')"
   ]
  },
  {
   "cell_type": "code",
   "execution_count": 7,
   "metadata": {},
   "outputs": [
    {
     "data": {
      "text/plain": [
       "'mr'"
      ]
     },
     "execution_count": 7,
     "metadata": {},
     "output_type": "execute_result"
    }
   ],
   "source": [
    "add_ing('mr')"
   ]
  },
  {
   "cell_type": "markdown",
   "metadata": {},
   "source": [
    "Q4. Write the Python program to find the first appearance of the\n",
    "substring 'not' and 'poor' from the given string, if 'not' follows the 'poor',\n",
    "replace the whole 'not'...' poor' substring with 'good'.Return the resulting\n",
    "string.\n",
    "\n",
    "    Sample string: 'The lyrics are not that poor!'\n",
    "    'The lyrics are poor!'\n",
    "    Expected Result: 'The lyrics are good!'\n",
    "    'The lyrics are poor!'"
   ]
  },
  {
   "cell_type": "code",
   "execution_count": 8,
   "metadata": {},
   "outputs": [],
   "source": [
    "def fndrerp(smp_str, arg1, arg2, repl):\n",
    "    ll = smp_str.find(arg1)\n",
    "    if ll >=0 :\n",
    "        ll2 = smp_str.find(arg2, ll,len(smp_str))\n",
    "        if ll2 >=0 :\n",
    "            smp_str = smp_str.replace(smp_str[ll:(smp_str.find(arg2) + len(arg2))], repl )\n",
    "            return smp_str\n",
    "    return smp_str\n"
   ]
  },
  {
   "cell_type": "code",
   "execution_count": 9,
   "metadata": {},
   "outputs": [
    {
     "name": "stdout",
     "output_type": "stream",
     "text": [
      "the lyrics are good!\n",
      "The lyrics are poor\n",
      "the lyrics good! testing the lyrics as 8poor8\n"
     ]
    }
   ],
   "source": [
    "smp_str3= 'the lyrics are not that poor!'\n",
    "smp_str2 = 'The lyrics are poor'\n",
    "smp_str1= 'the lyrics not are not that poor! testing the lyrics as 8poor8'\n",
    "print(fndrerp(smp_str3,'not','poor','good' ))\n",
    "print(fndrerp(smp_str2,'not','poor','good' ))\n",
    "print(fndrerp(smp_str1,'not','poor','good' ))"
   ]
  },
  {
   "cell_type": "markdown",
   "metadata": {},
   "source": [
    "Q5. Write the Python program to remove the characters which have odd\n",
    "index values of a given string."
   ]
  },
  {
   "cell_type": "code",
   "execution_count": 13,
   "metadata": {},
   "outputs": [
    {
     "name": "stdout",
     "output_type": "stream",
     "text": [
      "ace\n",
      "pto\n"
     ]
    }
   ],
   "source": [
    "def odd_values_string(str):\n",
    "    result = \"\" \n",
    "    for i in range(len(str)):\n",
    "        if i % 2 == 0:\n",
    "            result = result + str[i]\n",
    "    return result\n",
    "\n",
    "print(odd_values_string('abcdef'))\n",
    "print(odd_values_string('python'))"
   ]
  },
  {
   "cell_type": "markdown",
   "metadata": {},
   "source": [
    "Q6. Write the python program to print the following floating numbers up\n",
    "to 2 decimal places?"
   ]
  },
  {
   "cell_type": "code",
   "execution_count": 17,
   "metadata": {},
   "outputs": [
    {
     "name": "stdout",
     "output_type": "stream",
     "text": [
      "Floating numbers up to 2 decimal places: 10434.39\n"
     ]
    }
   ],
   "source": [
    "x= 10434.386\n",
    "print(\"Floating numbers up to 2 decimal places: \"+\"{:.2f}\".format(x))"
   ]
  },
  {
   "cell_type": "markdown",
   "metadata": {},
   "source": [
    "Q7. Write the Python program to format a number with a percentage?"
   ]
  },
  {
   "cell_type": "code",
   "execution_count": 18,
   "metadata": {},
   "outputs": [
    {
     "name": "stdout",
     "output_type": "stream",
     "text": [
      "Formatted Number with percentage: 36.00%\n"
     ]
    }
   ],
   "source": [
    "x = .36\n",
    "print(\"Formatted Number with percentage: \"+\"{:.2%}\".format(x))"
   ]
  },
  {
   "cell_type": "markdown",
   "metadata": {},
   "source": [
    "Q8. Write the Python program to count occurrences of a substring in a\n",
    "String?"
   ]
  },
  {
   "cell_type": "code",
   "execution_count": 19,
   "metadata": {},
   "outputs": [],
   "source": [
    "def occurance(str, arg):\n",
    "    i = 0\n",
    "    while True:\n",
    "        ll_found = str.find(arg)\n",
    "        if ll_found >= 0:\n",
    "            i = i + 1\n",
    "            str = str[ll_found + len(arg):]\n",
    "        else:\n",
    "            break\n",
    "    return i"
   ]
  },
  {
   "cell_type": "code",
   "execution_count": 20,
   "metadata": {},
   "outputs": [
    {
     "name": "stdout",
     "output_type": "stream",
     "text": [
      "4\n"
     ]
    }
   ],
   "source": [
    "smp_str1= 'poor the lyrics not are not that poor! testing the lyrics as 8 poor 8poor'\n",
    "arg1 = 'poor'\n",
    "print(occurance(smp_str1, arg1))"
   ]
  },
  {
   "cell_type": "markdown",
   "metadata": {},
   "source": [
    "Q9. Write the Python program to count repeated characters in a string.\n",
    "\n",
    "    Sample string: ' thequickbrownjumpsoverthelazydog '\n",
    "    \n",
    "    Expected output:\n",
    "    o 3\n",
    "    e 3\n",
    "    u 2\n",
    "    h 2\n",
    "    r 2\n",
    "    t 2"
   ]
  },
  {
   "cell_type": "code",
   "execution_count": 21,
   "metadata": {},
   "outputs": [
    {
     "name": "stdout",
     "output_type": "stream",
     "text": [
      "['z', 'r', 'a', 'v', 'w', 'o', 'y', 's', 'u', 'b', 'k', 'l', 'c', 't', 'j', 'g', 'h', 'd', 'q', 'p', 'i', 'm', 'n', 'e']\n"
     ]
    }
   ],
   "source": [
    "smpl_str = 'thequickbrownjumpsoverthelazydog'\n",
    "repchar = list(set(smpl_str))\n",
    "print(repchar)"
   ]
  },
  {
   "cell_type": "code",
   "execution_count": 22,
   "metadata": {},
   "outputs": [
    {
     "name": "stdout",
     "output_type": "stream",
     "text": [
      "r 2\n",
      "o 3\n",
      "u 2\n",
      "t 2\n",
      "h 2\n",
      "e 3\n"
     ]
    }
   ],
   "source": [
    "for i in repchar:\n",
    "    if occurance(smpl_str, i) > 1:    # here occurance is above declared\n",
    "        print(i,occurance(smpl_str, i))\n",
    "        "
   ]
  },
  {
   "cell_type": "markdown",
   "metadata": {},
   "source": [
    "Q10. Write the Python program to print the square and cube symbol in\n",
    "the area of a rectangle and volume of a cylinder?\n",
    "\n",
    "    Sample outputThe area of the rectangle is 1256.66cm2\n",
    "    The volume of the cylinder is 1254.725cm3\n"
   ]
  },
  {
   "cell_type": "code",
   "execution_count": 23,
   "metadata": {},
   "outputs": [
    {
     "name": "stdout",
     "output_type": "stream",
     "text": [
      "The area of the rectangle is 1256.66cm²\n",
      "The volume of the cylinder is 1254.725cm³\n"
     ]
    }
   ],
   "source": [
    "area = 1256.66\n",
    "volume = 1254.725\n",
    "decimals = 2\n",
    "print(\"The area of the rectangle is {0:.{1}f}cm\\u00b2\".format(area, decimals))\n",
    "decimals = 3\n",
    "print(\"The volume of the cylinder is {0:.{1}f}cm\\u00b3\".format(volume, decimals))"
   ]
  },
  {
   "cell_type": "markdown",
   "metadata": {},
   "source": [
    "Q11. Write the Python program to check if a string contains all letters of\n",
    "the alphabet?"
   ]
  },
  {
   "cell_type": "code",
   "execution_count": 24,
   "metadata": {},
   "outputs": [
    {
     "name": "stdout",
     "output_type": "stream",
     "text": [
      "True\n",
      "False\n"
     ]
    }
   ],
   "source": [
    "import string\n",
    "alphabet = set(string.ascii_lowercase)\n",
    "input_string='abcdefghijklmnopqrstuvwxyzsfngshkjhkjahciwgfvhvh'\n",
    "print(set(input_string.lower()) >= alphabet)\n",
    "input_string='chviukhiuvhdanvgifofbjhcoipfasl,'\n",
    "print(set(input_string.lower()) >= alphabet)"
   ]
  },
  {
   "cell_type": "markdown",
   "metadata": {},
   "source": [
    "Q12. Write the Python program to find the second most repeated word\n",
    "in a given string?"
   ]
  },
  {
   "cell_type": "code",
   "execution_count": 25,
   "metadata": {},
   "outputs": [
    {
     "name": "stdout",
     "output_type": "stream",
     "text": [
      "['poor', 'the', 'lyrics', 'not', 'are', 'not', 'that', 'poor!', 'testing', 'the', 'lyrics', 'as', '8', 'poor', '8poor']\n"
     ]
    }
   ],
   "source": [
    "lst = smp_str1.split()\n",
    "print(lst)"
   ]
  },
  {
   "cell_type": "code",
   "execution_count": 26,
   "metadata": {},
   "outputs": [
    {
     "name": "stdout",
     "output_type": "stream",
     "text": [
      "{'not', 'poor!', '8', 'that', 'testing', '8poor', 'are', 'as', 'poor', 'lyrics', 'the'}\n"
     ]
    }
   ],
   "source": [
    "distinctword = set(lst)\n",
    "print(distinctword)"
   ]
  },
  {
   "cell_type": "code",
   "execution_count": 27,
   "metadata": {},
   "outputs": [],
   "source": [
    "counts = dict()\n",
    "for word in distinctword:\n",
    "    counts[word] = occurance(smp_str1, word) # is defined at Question number 10\n",
    "    "
   ]
  },
  {
   "cell_type": "code",
   "execution_count": 28,
   "metadata": {},
   "outputs": [
    {
     "data": {
      "text/plain": [
       "{'not': 2,\n",
       " 'poor!': 1,\n",
       " '8': 2,\n",
       " 'that': 1,\n",
       " 'testing': 1,\n",
       " '8poor': 1,\n",
       " 'are': 1,\n",
       " 'as': 1,\n",
       " 'poor': 4,\n",
       " 'lyrics': 2,\n",
       " 'the': 2}"
      ]
     },
     "execution_count": 28,
     "metadata": {},
     "output_type": "execute_result"
    }
   ],
   "source": [
    "counts"
   ]
  },
  {
   "cell_type": "code",
   "execution_count": 29,
   "metadata": {},
   "outputs": [
    {
     "name": "stdout",
     "output_type": "stream",
     "text": [
      "[('poor!', 1), ('that', 1), ('testing', 1), ('8poor', 1), ('are', 1), ('as', 1), ('not', 2), ('8', 2), ('lyrics', 2), ('the', 2), ('poor', 4)]\n"
     ]
    },
    {
     "data": {
      "text/plain": [
       "('the', 2)"
      ]
     },
     "execution_count": 29,
     "metadata": {},
     "output_type": "execute_result"
    }
   ],
   "source": [
    "counts_x = sorted(counts.items(), key=lambda kv: kv[1])\n",
    "print(counts_x)\n",
    "counts_x[-2]"
   ]
  },
  {
   "cell_type": "markdown",
   "metadata": {},
   "source": [
    "Q13. Write the Python program to find the minimum window in the given\n",
    "string, which will contains all the characters of another given\n",
    "strings?\n",
    "\n",
    "    Example 1\n",
    "    Input : string1 = \" PRWSOERIUSFK \"\n",
    "    string2 = \" OSU \"\n",
    "    Output: Minimum window is \"OERIUS\""
   ]
  },
  {
   "cell_type": "code",
   "execution_count": 31,
   "metadata": {},
   "outputs": [],
   "source": [
    "\n",
    "import collections\n",
    "def min_window(str1, str2):\n",
    "    result_char, missing_char = collections.Counter(str2), len(str2)\n",
    "    i = p = q = 0\n",
    "    for j, c in enumerate(str1, 1):\n",
    "        missing_char -= result_char[c] > 0\n",
    "        result_char[c] -= 1\n",
    "        if not missing_char:\n",
    "            while i < q and result_char[str1[i]] < 0:\n",
    "                result_char[str1[i]] += 1\n",
    "                i += 1\n",
    "            if not q or j - i <= q - p:\n",
    "                p, q = i, j\n",
    "    return str1[p:q]"
   ]
  },
  {
   "cell_type": "code",
   "execution_count": 32,
   "metadata": {},
   "outputs": [
    {
     "name": "stdout",
     "output_type": "stream",
     "text": [
      "Original Strings:\n",
      " PRWSOERIUSFK \n",
      " OSU\n",
      "Minimum window:\n",
      "OERIUS\n"
     ]
    }
   ],
   "source": [
    "str1 = \"PRWSOERIUSFK\"\n",
    "str2 = \"OSU\"\n",
    "print(\"Original Strings:\\n\",str1,\"\\n\",str2)\n",
    "print(\"Minimum window:\")\n",
    "print(min_window(str1,str2))"
   ]
  },
  {
   "cell_type": "markdown",
   "metadata": {},
   "source": [
    "Q14. Write the Python program to count number of substrings from a\n",
    "given string of lowercase alphabets with exactly k distinct (given)\n",
    "characters?\n",
    "\n",
    "    Input a string (lowercase alphabets): wolf\n",
    "    Input k: 4\n",
    "    Number of substrings with exactly 4 distinct characters: 1"
   ]
  },
  {
   "cell_type": "code",
   "execution_count": 33,
   "metadata": {},
   "outputs": [],
   "source": [
    "def count_k_dist(str1, k): \n",
    "    str_len = len(str1) \n",
    "\n",
    "    result = 0\n",
    "\n",
    "    ctr = [0] * 27\n",
    "\n",
    "    for i in range(0, str_len): \n",
    "        dist_ctr = 0\n",
    "\n",
    "        ctr = [0] * 27\n",
    "        for j in range(i, str_len): \n",
    "\n",
    "            if(ctr[ord(str1[j]) - 97] == 0): \n",
    "                dist_ctr += 1\n",
    "\n",
    "            ctr[ord(str1[j]) - 97] += 1\n",
    "\n",
    "            if(dist_ctr == k): \n",
    "                result += 1\n",
    "            if(dist_ctr > k): \n",
    "                break\n",
    "\n",
    "    return result \n",
    "\n"
   ]
  },
  {
   "cell_type": "code",
   "execution_count": 36,
   "metadata": {},
   "outputs": [
    {
     "name": "stdout",
     "output_type": "stream",
     "text": [
      "Number of substrings with exactly 4 distinct characters : 1\n"
     ]
    }
   ],
   "source": [
    "#str1 = input(\"Input a string (lowercase alphabets):\")\n",
    "str1 = 'wolf'\n",
    "#k = int(input(\"Input k: \"))\n",
    "k = 4\n",
    "\n",
    "print(\"Number of substrings with exactly\", k, \"distinct characters : \", end = \"\") \n",
    "print(count_k_dist(str1, k))"
   ]
  },
  {
   "cell_type": "markdown",
   "metadata": {},
   "source": [
    "Q15. Write the Python program to count number of substrings with same\n",
    "first and last characters of the given string?\n",
    "\n",
    "    Input a string: abcd\n",
    "    4\n"
   ]
  },
  {
   "cell_type": "code",
   "execution_count": 38,
   "metadata": {},
   "outputs": [
    {
     "data": {
      "text/plain": [
       "13"
      ]
     },
     "execution_count": 38,
     "metadata": {},
     "output_type": "execute_result"
    }
   ],
   "source": [
    "def no_of_substring_with_equalEnds(str1): \n",
    "    result = 0; \n",
    "    n = len(str1); \n",
    "    for i in range(n): \n",
    "        for j in range(i, n): \n",
    "            if (str1[i] == str1[j]): \n",
    "                result = result + 1\n",
    "    return result \n",
    "no_of_substring_with_equalEnds('substrings')"
   ]
  },
  {
   "cell_type": "markdown",
   "metadata": {},
   "source": [
    "## Great Job!"
   ]
  }
 ],
 "metadata": {
  "kernelspec": {
   "display_name": "Python 3",
   "language": "python",
   "name": "python3"
  },
  "language_info": {
   "codemirror_mode": {
    "name": "ipython",
    "version": 3
   },
   "file_extension": ".py",
   "mimetype": "text/x-python",
   "name": "python",
   "nbconvert_exporter": "python",
   "pygments_lexer": "ipython3",
   "version": "3.6.5"
  }
 },
 "nbformat": 4,
 "nbformat_minor": 2
}

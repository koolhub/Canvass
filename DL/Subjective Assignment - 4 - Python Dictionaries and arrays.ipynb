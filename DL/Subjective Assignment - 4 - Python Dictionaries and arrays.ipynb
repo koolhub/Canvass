{
 "cells": [
  {
   "cell_type": "markdown",
   "metadata": {},
   "source": [
    "# Assignment"
   ]
  },
  {
   "cell_type": "markdown",
   "metadata": {},
   "source": [
    "Q1. Write the Python program to create an instance of an OrderedDict \n",
    "using the given dictionary and sort dictionary during the\n",
    "creation and print members of the dictionary in reverse order?\n",
    "\n",
    "    Expected OutputAngola 244.\n",
    "    Andorra 376.\n",
    "    Algeria 213.\n",
    "    Afghanistan 93.\n",
    "    Albania 355.\n",
    "    In reverse orderAlbania 355.\n",
    "    Afghanistan 93.\n",
    "    Algeria 213.\n",
    "    Andorra 376.\n",
    "    Angola 244."
   ]
  },
  {
   "cell_type": "code",
   "execution_count": null,
   "metadata": {},
   "outputs": [],
   "source": [
    "OrderDict = {'Angola': 244,'Andorra' :376,'Algeria' : 213,'Afghanistan' :93 ,'Albania' :355}"
   ]
  },
  {
   "cell_type": "markdown",
   "metadata": {},
   "source": [
    "Q2. Write the Python program to compare two unordered lists (not\n",
    "sets)?\n",
    " \n",
    "     Expected Output: False"
   ]
  },
  {
   "cell_type": "code",
   "execution_count": 5,
   "metadata": {},
   "outputs": [
    {
     "name": "stdout",
     "output_type": "stream",
     "text": [
      "[1, 7, 36, 56]\n",
      "[1, 6, 36, 56]\n",
      "False\n"
     ]
    }
   ],
   "source": [
    "a = [1,56,36,7]\n",
    "b = [56,1,6,36]\n",
    "print(sorted(a))\n",
    "print(sorted(b))\n",
    "\n",
    "if sorted(a) == sorted(b):\n",
    "    print ('True')\n",
    "else:\n",
    "    print('False')"
   ]
  },
  {
   "cell_type": "markdown",
   "metadata": {},
   "source": [
    "Q3. Write the Python program to get an array buffer information?\n",
    "\n",
    "    Expected OutputArray buffer start address in memory and number of elements.\n",
    "    (25855056, 2)\n"
   ]
  },
  {
   "cell_type": "code",
   "execution_count": 7,
   "metadata": {},
   "outputs": [
    {
     "name": "stdout",
     "output_type": "stream",
     "text": [
      "Expected OutputArray buffer start address in memory and number of elements.\n",
      "(1861905522536, 2)\n"
     ]
    }
   ],
   "source": [
    "from array import array\n",
    "a = array(\"I\", (1,5))\n",
    "print(\"Expected OutputArray buffer start address in memory and number of elements.\")\n",
    "print(a.buffer_info())"
   ]
  },
  {
   "cell_type": "markdown",
   "metadata": {},
   "source": [
    "Q4. Write the Python program to convert an array to an array of\n",
    "machine values and return the bytes representation?\n",
    "\n",
    "    Expected OutputOriginal arrayA1: array('i', [1, 2, 3, 4, 5, 6])\n",
    "    Array of bytes:\n",
    "    b'010000000200000003000000040000000500000006000000"
   ]
  },
  {
   "cell_type": "code",
   "execution_count": 2,
   "metadata": {},
   "outputs": [
    {
     "name": "stdout",
     "output_type": "stream",
     "text": [
      "Bytes to String: \n",
      "Bytes: b'010000000200000003000000040000000500000006000000'\n"
     ]
    }
   ],
   "source": [
    "from array import *\n",
    "import binascii\n",
    "print(\"Bytes to String: \")\n",
    "x = array('i', [1,2,3,4,5,6])\n",
    "print('Bytes:', binascii.hexlify(x))\n"
   ]
  },
  {
   "cell_type": "markdown",
   "metadata": {},
   "source": [
    "Q5. Write the Python program to read a string and interpreting the\n",
    "string as an array of machine values?\n",
    "\n",
    "    Expected Outputarray1- array('i', [7, 8, 9, 10])\n",
    "    Bytes- b'0700000008000000090000000a000000'\n",
    "    array2- array('i', [7, 8, 9, 10])"
   ]
  },
  {
   "cell_type": "code",
   "execution_count": 3,
   "metadata": {},
   "outputs": [
    {
     "name": "stdout",
     "output_type": "stream",
     "text": [
      "Expected Outputarray1- array: array('i', [7, 8, 9, 10])\n",
      "Bytes: b'0700000008000000090000000a000000'\n",
      "rray2- array: array('i', [7, 8, 9, 10])\n"
     ]
    }
   ],
   "source": [
    "from array import array\n",
    "import binascii\n",
    "array1 = array('i', [7, 8, 9, 10])\n",
    "print('Expected Outputarray1- array:', array1)\n",
    "as_bytes = array1.tobytes()\n",
    "print('Bytes:', binascii.hexlify(as_bytes))\n",
    "array2 = array('i')\n",
    "array2.frombytes(as_bytes)\n",
    "print('rray2- array:', array2)"
   ]
  },
  {
   "cell_type": "markdown",
   "metadata": {},
   "source": [
    "Q6. Write the Python program to push three items into the heap and\n",
    "return the smallest item from the heap. Also, return and pop the\n",
    "smallest item from the heap?\n",
    "    \n",
    "    Expected OutputItems in the heap-\n",
    "    ('VI', 1).\n",
    "    ('VII', 3).\n",
    "    ('VIII', 2).\n",
    "    ----------------------\n",
    "    The smallest item in the heap:\n",
    "    ('VI', 1).\n",
    "     ----------------------\n",
    "    Pop the smallest item in the heap:\n",
    "    ('VII', 2).\n",
    "    ('VIII', 3)."
   ]
  },
  {
   "cell_type": "code",
   "execution_count": 4,
   "metadata": {},
   "outputs": [],
   "source": [
    "import heapq\n",
    "heap = []\n",
    "heapq.heappush(heap, ('V', 3))\n",
    "heapq.heappush(heap, ('V', 2))\n",
    "heapq.heappush(heap, ('V', 1))\n"
   ]
  },
  {
   "cell_type": "code",
   "execution_count": 5,
   "metadata": {},
   "outputs": [
    {
     "name": "stdout",
     "output_type": "stream",
     "text": [
      "Items in the heap:\n",
      "('V', 1)\n",
      "('V', 3)\n",
      "('V', 2)\n",
      "----------------------\n",
      "The smallest item in the heap:\n",
      "('V', 1)\n",
      "----------------------\n",
      "Pop the smallest item in the heap:\n",
      "('V', 2)\n",
      "('V', 3)\n"
     ]
    }
   ],
   "source": [
    "print(\"Items in the heap:\")\n",
    "for a in heap:\n",
    "    print(a)\n",
    "print(\"----------------------\")\n",
    "print(\"The smallest item in the heap:\")\n",
    "print(heap[0])\n",
    "print(\"----------------------\")\n",
    "print(\"Pop the smallest item in the heap:\")\n",
    "heapq.heappop(heap)\n",
    "for a in heap:\n",
    "    print(a)"
   ]
  },
  {
   "cell_type": "markdown",
   "metadata": {},
   "source": [
    "Q7. Write the Python program to locate the left insertion point for a\n",
    "specified value in sorted order?\n",
    "\n",
    "    Expected Output:\n",
    "    4\n",
    "    2"
   ]
  },
  {
   "cell_type": "code",
   "execution_count": 6,
   "metadata": {},
   "outputs": [
    {
     "name": "stdout",
     "output_type": "stream",
     "text": [
      "4\n",
      "2\n"
     ]
    }
   ],
   "source": [
    "import bisect\n",
    "def index(a, x):\n",
    "    i = bisect.bisect_left(a, x)\n",
    "    return i\n",
    "    \n",
    "a = [1,2,4,5]\n",
    "print(index(a, 6))\n",
    "print(index(a, 3))"
   ]
  },
  {
   "cell_type": "markdown",
   "metadata": {},
   "source": [
    "Q8. Write the Python program to create the FIFO queue?\n",
    "\n",
    "    Expected Output:\n",
    "    0 1 2 3"
   ]
  },
  {
   "cell_type": "code",
   "execution_count": 9,
   "metadata": {},
   "outputs": [
    {
     "name": "stdout",
     "output_type": "stream",
     "text": [
      "Expected Output:\n",
      "0 1 2 3 "
     ]
    }
   ],
   "source": [
    "import queue\n",
    "q = queue.Queue()\n",
    "for x in range(4):\n",
    "    q.put(str(x))\n",
    "\n",
    "print('Expected Output:')    \n",
    "while not q.empty():\n",
    "    print(q.get(), end=\" \")\n"
   ]
  },
  {
   "cell_type": "markdown",
   "metadata": {},
   "source": [
    "Q9. Write the Python program to calculate the harmonic sum of n-1.\n",
    " Note: The harmonic sum is the sum of reciprocals of the positive\n",
    "Integers?\n",
    "\n",
    "    Example:\n",
    "    1+1/2+1/3+1/4+1/5+...."
   ]
  },
  {
   "cell_type": "code",
   "execution_count": 10,
   "metadata": {},
   "outputs": [
    {
     "name": "stdout",
     "output_type": "stream",
     "text": [
      "2.5928571428571425\n",
      "2.083333333333333\n"
     ]
    }
   ],
   "source": [
    "def harmonic_sum(n):\n",
    "  if n < 2:\n",
    "    return 1\n",
    "  else:\n",
    "    return 1 / n + (harmonic_sum(n - 1))\n",
    "    \n",
    "print(harmonic_sum(7))\n",
    "print(harmonic_sum(4))"
   ]
  },
  {
   "cell_type": "markdown",
   "metadata": {},
   "source": [
    "## Great Job!"
   ]
  }
 ],
 "metadata": {
  "kernelspec": {
   "display_name": "Python 3",
   "language": "python",
   "name": "python3"
  },
  "language_info": {
   "codemirror_mode": {
    "name": "ipython",
    "version": 3
   },
   "file_extension": ".py",
   "mimetype": "text/x-python",
   "name": "python",
   "nbconvert_exporter": "python",
   "pygments_lexer": "ipython3",
   "version": "3.6.5"
  }
 },
 "nbformat": 4,
 "nbformat_minor": 2
}

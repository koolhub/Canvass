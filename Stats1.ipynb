{
 "cells": [
  {
   "cell_type": "markdown",
   "metadata": {},
   "source": [
    "###  Problem Statement\n",
    "#### Problem Statement 1:\n",
    "You survey households in your area to find the average rent they are paying. Find the\n",
    "standard deviation from the following data:\n",
    "$1550, $1700, $900, $850, $1000, $950.\n",
    "\n",
    "#### Problem Statement 2:\n",
    "Find the variance for the following set of data representing trees in California (heights in\n",
    "feet):\n",
    "3, 21, 98, 203, 17, 9\n",
    "\n",
    "#### Problem Statement 3:\n",
    "In a class on 100 students, 80 students passed in all subjects, 10 failed in one subject, 7\n",
    "failed in two subjects and 3 failed in three subjects. Find the probability distribution of\n",
    "the variable for number of subjects a student from the given class has failed in."
   ]
  },
  {
   "cell_type": "code",
   "execution_count": 2,
   "metadata": {},
   "outputs": [
    {
     "name": "stdout",
     "output_type": "stream",
     "text": [
      "Standard Deviation of sample is 367.9900360969936 \n"
     ]
    }
   ],
   "source": [
    "# Problem Statement 1:\n",
    "\n",
    "# You survey households in your area to find the average rent they are paying.\n",
    "# Find the standard deviation from the following data:  1550,1550, 1700,  900,900, 850,  1000,1000, 950.\n",
    "\n",
    "# importing Statistics module \n",
    "import statistics \n",
    "  \n",
    "sd = [1550, 1700, 900, 850, 1000,950] \n",
    "  \n",
    "\n",
    "print(\"Standard Deviation of sample is % s \" \n",
    "                % (statistics.stdev(sd))) "
   ]
  },
  {
   "cell_type": "code",
   "execution_count": 4,
   "metadata": {},
   "outputs": [
    {
     "name": "stdout",
     "output_type": "stream",
     "text": [
      "Variance of sample is 6219.9 \n"
     ]
    }
   ],
   "source": [
    "# Problem Statement 2:\n",
    "\n",
    "# Find the variance for the following set of data representing trees in California (heights in feet): \n",
    "#    3, 21, 98, 203, 17, 9\n",
    " \n",
    "    # importing Statistics module \n",
    "import statistics \n",
    "  \n",
    "vr = [3, 21, 98, 203, 17, 9] \n",
    "  \n",
    "\n",
    "print(\"Variance of sample is % s \" \n",
    "                % (statistics.variance(vr))) \n",
    "    "
   ]
  },
  {
   "cell_type": "code",
   "execution_count": 11,
   "metadata": {},
   "outputs": [
    {
     "name": "stdout",
     "output_type": "stream",
     "text": [
      "Probability of Failing in 0 subjects  0.8\n",
      "Probability of Failing in 1 subjects   0.1\n",
      "Probability of Failing in 2 subjects   0.07\n",
      "Probability of Failing in 3 subjects   0.03\n",
      "Expected number of subjects in which failed    0.33\n"
     ]
    }
   ],
   "source": [
    "# Problem Statement 3:\n",
    "\n",
    "# In a class on 100 students, 80 students passed in all subjects, 10 failed in one subject, \n",
    "# 7 failed in two subjects and 3 failed in three subjects.Find the probability distribution \n",
    "# of the variable for number of subjects a student from the given class has failed in.\n",
    "\n",
    "\n",
    "print (\"Probability of Failing in 0 subjects \",80/100)\n",
    "\n",
    "print (\"Probability of Failing in 1 subjects  \",10/100)\n",
    "\n",
    "print (\"Probability of Failing in 2 subjects  \",7/100)\n",
    "\n",
    "print (\"Probability of Failing in 3 subjects  \",3/100)\n",
    "       \n",
    "print (\"Expected number of subjects in which failed   \",0 * (80/100) + 1 * (10/100) + 2 * (7/100) + 3 * (3/100))\n",
    "\n"
   ]
  },
  {
   "cell_type": "code",
   "execution_count": null,
   "metadata": {},
   "outputs": [],
   "source": []
  }
 ],
 "metadata": {
  "kernelspec": {
   "display_name": "Python 3",
   "language": "python",
   "name": "python3"
  },
  "language_info": {
   "codemirror_mode": {
    "name": "ipython",
    "version": 3
   },
   "file_extension": ".py",
   "mimetype": "text/x-python",
   "name": "python",
   "nbconvert_exporter": "python",
   "pygments_lexer": "ipython3",
   "version": "3.6.5"
  }
 },
 "nbformat": 4,
 "nbformat_minor": 2
}
